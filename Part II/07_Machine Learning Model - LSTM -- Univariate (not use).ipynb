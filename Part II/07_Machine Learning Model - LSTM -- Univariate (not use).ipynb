{
 "cells": [
  {
   "cell_type": "markdown",
   "metadata": {},
   "source": [
    "https://machinelearningmastery.com/how-to-develop-lstm-models-for-time-series-forecasting/"
   ]
  },
  {
   "cell_type": "code",
   "execution_count": 25,
   "metadata": {},
   "outputs": [
    {
     "ename": "ImportError",
     "evalue": "cannot import name 'scaler' from 'tensorflow.keras.layers' (c:\\Users\\chust\\anaconda3\\Lib\\site-packages\\keras\\api\\_v2\\keras\\layers\\__init__.py)",
     "output_type": "error",
     "traceback": [
      "\u001b[1;31m---------------------------------------------------------------------------\u001b[0m",
      "\u001b[1;31mImportError\u001b[0m                               Traceback (most recent call last)",
      "Cell \u001b[1;32mIn[25], line 10\u001b[0m\n\u001b[0;32m      8\u001b[0m \u001b[38;5;28;01mimport\u001b[39;00m \u001b[38;5;21;01mtensorflow\u001b[39;00m \u001b[38;5;28;01mas\u001b[39;00m \u001b[38;5;21;01mtf\u001b[39;00m\n\u001b[0;32m      9\u001b[0m \u001b[38;5;28;01mfrom\u001b[39;00m \u001b[38;5;21;01mtensorflow\u001b[39;00m\u001b[38;5;21;01m.\u001b[39;00m\u001b[38;5;21;01mkeras\u001b[39;00m\u001b[38;5;21;01m.\u001b[39;00m\u001b[38;5;21;01mmodels\u001b[39;00m \u001b[38;5;28;01mimport\u001b[39;00m Sequential\n\u001b[1;32m---> 10\u001b[0m \u001b[38;5;28;01mfrom\u001b[39;00m \u001b[38;5;21;01mtensorflow\u001b[39;00m\u001b[38;5;21;01m.\u001b[39;00m\u001b[38;5;21;01mkeras\u001b[39;00m\u001b[38;5;21;01m.\u001b[39;00m\u001b[38;5;21;01mlayers\u001b[39;00m \u001b[38;5;28;01mimport\u001b[39;00m LSTM, Dense, Flatten, Bidirectional, TimeDistributed, Conv1D, MaxPooling1D, scaler\n\u001b[0;32m     11\u001b[0m \u001b[38;5;28;01mfrom\u001b[39;00m \u001b[38;5;21;01msklearn\u001b[39;00m\u001b[38;5;21;01m.\u001b[39;00m\u001b[38;5;21;01mmodel_selection\u001b[39;00m \u001b[38;5;28;01mimport\u001b[39;00m train_test_split\n\u001b[0;32m     12\u001b[0m \u001b[38;5;28;01mfrom\u001b[39;00m \u001b[38;5;21;01mtensorflow\u001b[39;00m\u001b[38;5;21;01m.\u001b[39;00m\u001b[38;5;21;01mkeras\u001b[39;00m\u001b[38;5;21;01m.\u001b[39;00m\u001b[38;5;21;01mcallbacks\u001b[39;00m \u001b[38;5;28;01mimport\u001b[39;00m EarlyStopping\n",
      "\u001b[1;31mImportError\u001b[0m: cannot import name 'scaler' from 'tensorflow.keras.layers' (c:\\Users\\chust\\anaconda3\\Lib\\site-packages\\keras\\api\\_v2\\keras\\layers\\__init__.py)"
     ]
    }
   ],
   "source": [
    "# import libraries\n",
    "\n",
    "import pandas as pd\n",
    "import numpy as np\n",
    "import matplotlib.pyplot as plt\n",
    "import seaborn as sns\n",
    "%matplotlib inline\n",
    "import tensorflow as tf\n",
    "from tensorflow.keras.models import Sequential\n",
    "from tensorflow.keras.layers import LSTM, Dense, Flatten, Bidirectional, TimeDistributed, Conv1D, MaxPooling1D\n",
    "from sklearn.model_selection import train_test_split\n",
    "from tensorflow.keras.callbacks import EarlyStopping\n",
    "from sklearn.metrics import r2_score\n",
    "from keras import backend as K\n",
    "from tensorflow.keras.utils import plot_model"
   ]
  },
  {
   "cell_type": "code",
   "execution_count": 2,
   "metadata": {},
   "outputs": [],
   "source": [
    "# load final clean dataset\n",
    "df = pd.read_csv('merged_clean_data.csv')"
   ]
  },
  {
   "cell_type": "code",
   "execution_count": 3,
   "metadata": {},
   "outputs": [],
   "source": [
    "# columns to exclude\n",
    "sectors_todrop = ['Utilities', 'Educational services', 'Accommodation and food services', 'Other services except public administration',\n",
    "                  'Public administration', 'Finance and insurance, real estate and rental and leasing', 'Professional scientific and technical services',\n",
    "                  'Information culture and recreation']\n",
    "weather_data_todrop = ['Snow Grnd Last Day (cm)', 'Dir of Max Gust (10s deg)',\n",
    "                       'Spd of Max Gust (km/h)']\n",
    "\n",
    "df.drop(columns = sectors_todrop, inplace = True)\n",
    "df.drop(columns = weather_data_todrop, inplace = True)\n"
   ]
  },
  {
   "cell_type": "code",
   "execution_count": 4,
   "metadata": {},
   "outputs": [],
   "source": [
    "# convert 'Date/Time' to datetime format\n",
    "df['Date/Time'] = pd.to_datetime(df['Date/Time'])\n",
    "\n",
    "# convert 'GeoUID' to string\n",
    "df['GeoUID'] = df['GeoUID'].astype('str')"
   ]
  },
  {
   "cell_type": "code",
   "execution_count": 5,
   "metadata": {},
   "outputs": [],
   "source": [
    "# set date time as index\n",
    "# df.set_index('Date/Time', inplace = True)"
   ]
  },
  {
   "cell_type": "code",
   "execution_count": 6,
   "metadata": {},
   "outputs": [
    {
     "name": "stdout",
     "output_type": "stream",
     "text": [
      "<class 'pandas.core.frame.DataFrame'>\n",
      "RangeIndex: 77938 entries, 0 to 77937\n",
      "Data columns (total 23 columns):\n",
      " #   Column                                                                             Non-Null Count  Dtype         \n",
      "---  ------                                                                             --------------  -----         \n",
      " 0   provincename                                                                       77938 non-null  object        \n",
      " 1   Longitude                                                                          77938 non-null  float64       \n",
      " 2   Latitude                                                                           77938 non-null  float64       \n",
      " 3   Region.Name                                                                        77938 non-null  object        \n",
      " 4   Date/Time                                                                          77938 non-null  datetime64[ns]\n",
      " 5   Construction                                                                       70102 non-null  float64       \n",
      " 6   Manufacturing                                                                      70102 non-null  float64       \n",
      " 7   Transportation and warehousing                                                     70102 non-null  float64       \n",
      " 8   Health care and social assistance                                                  70102 non-null  float64       \n",
      " 9   Agriculture forestry fishing hunting, Mining quarrying and oil and gas extraction  70102 non-null  float64       \n",
      " 10  Wholesale trade Retail trade                                                       70102 non-null  float64       \n",
      " 11  Population                                                                         70102 non-null  float64       \n",
      " 12  GeoUID                                                                             77938 non-null  object        \n",
      " 13  Station Name                                                                       77938 non-null  object        \n",
      " 14  Climate ID                                                                         77938 non-null  object        \n",
      " 15  Mean Max Temp (°C)                                                                 77938 non-null  float64       \n",
      " 16  Mean Min Temp (°C)                                                                 77938 non-null  float64       \n",
      " 17  Mean Temp (°C)                                                                     77938 non-null  float64       \n",
      " 18  Extr Max Temp (°C)                                                                 77938 non-null  float64       \n",
      " 19  Extr Min Temp (°C)                                                                 77938 non-null  float64       \n",
      " 20  Total Rain (mm)                                                                    77938 non-null  float64       \n",
      " 21  Total Snow (cm)                                                                    77938 non-null  float64       \n",
      " 22  Total Precip (mm)                                                                  77938 non-null  float64       \n",
      "dtypes: datetime64[ns](1), float64(17), object(5)\n",
      "memory usage: 13.7+ MB\n"
     ]
    }
   ],
   "source": [
    "df.info()"
   ]
  },
  {
   "cell_type": "markdown",
   "metadata": {},
   "source": [
    "Construction"
   ]
  },
  {
   "cell_type": "code",
   "execution_count": 7,
   "metadata": {},
   "outputs": [
    {
     "data": {
      "text/html": [
       "<div>\n",
       "<style scoped>\n",
       "    .dataframe tbody tr th:only-of-type {\n",
       "        vertical-align: middle;\n",
       "    }\n",
       "\n",
       "    .dataframe tbody tr th {\n",
       "        vertical-align: top;\n",
       "    }\n",
       "\n",
       "    .dataframe thead th {\n",
       "        text-align: right;\n",
       "    }\n",
       "</style>\n",
       "<table border=\"1\" class=\"dataframe\">\n",
       "  <thead>\n",
       "    <tr style=\"text-align: right;\">\n",
       "      <th></th>\n",
       "      <th>Construction</th>\n",
       "    </tr>\n",
       "  </thead>\n",
       "  <tbody>\n",
       "    <tr>\n",
       "      <th>0</th>\n",
       "      <td>0.484470</td>\n",
       "    </tr>\n",
       "    <tr>\n",
       "      <th>1</th>\n",
       "      <td>0.518876</td>\n",
       "    </tr>\n",
       "    <tr>\n",
       "      <th>2</th>\n",
       "      <td>0.535712</td>\n",
       "    </tr>\n",
       "    <tr>\n",
       "      <th>3</th>\n",
       "      <td>0.528170</td>\n",
       "    </tr>\n",
       "    <tr>\n",
       "      <th>4</th>\n",
       "      <td>0.578918</td>\n",
       "    </tr>\n",
       "    <tr>\n",
       "      <th>...</th>\n",
       "      <td>...</td>\n",
       "    </tr>\n",
       "    <tr>\n",
       "      <th>77908</th>\n",
       "      <td>0.909181</td>\n",
       "    </tr>\n",
       "    <tr>\n",
       "      <th>77909</th>\n",
       "      <td>0.861926</td>\n",
       "    </tr>\n",
       "    <tr>\n",
       "      <th>77910</th>\n",
       "      <td>0.890384</td>\n",
       "    </tr>\n",
       "    <tr>\n",
       "      <th>77911</th>\n",
       "      <td>0.886212</td>\n",
       "    </tr>\n",
       "    <tr>\n",
       "      <th>77912</th>\n",
       "      <td>0.904056</td>\n",
       "    </tr>\n",
       "  </tbody>\n",
       "</table>\n",
       "<p>70102 rows × 1 columns</p>\n",
       "</div>"
      ],
      "text/plain": [
       "       Construction\n",
       "0          0.484470\n",
       "1          0.518876\n",
       "2          0.535712\n",
       "3          0.528170\n",
       "4          0.578918\n",
       "...             ...\n",
       "77908      0.909181\n",
       "77909      0.861926\n",
       "77910      0.890384\n",
       "77911      0.886212\n",
       "77912      0.904056\n",
       "\n",
       "[70102 rows x 1 columns]"
      ]
     },
     "execution_count": 7,
     "metadata": {},
     "output_type": "execute_result"
    }
   ],
   "source": [
    "construction = df['Construction']\n",
    "construction = pd.DataFrame(construction)\n",
    "construction = construction[construction['Construction'].notnull()]\n",
    "construction"
   ]
  },
  {
   "cell_type": "code",
   "execution_count": 8,
   "metadata": {},
   "outputs": [],
   "source": [
    "# define a function that will split the sequence into desired number of steps\n",
    "def prepare_data(df, n_features):\n",
    "    data = df.values\n",
    "    X, y = [], []\n",
    "    for i in range(len(data)):\n",
    "        end_ix = i + n_features\n",
    "        if end_ix > len(data) - 1:\n",
    "            break\n",
    "        seq_x, seq_y = data[i:end_ix, :], data[end_ix, 0]  # Assuming Construction is at column index 5\n",
    "        X.append(seq_x)\n",
    "        y.append(seq_y)\n",
    "    return np.array(X), np.array(y)"
   ]
  },
  {
   "cell_type": "code",
   "execution_count": 9,
   "metadata": {},
   "outputs": [],
   "source": [
    "# number of time steps\n",
    "n_steps = 12\n",
    "# split into samples | will have features and target variables\n",
    "X, y = prepare_data(construction, n_steps)"
   ]
  },
  {
   "cell_type": "code",
   "execution_count": 10,
   "metadata": {},
   "outputs": [
    {
     "name": "stdout",
     "output_type": "stream",
     "text": [
      "(70090, 12, 1)\n",
      "(70090,)\n"
     ]
    }
   ],
   "source": [
    "print(X.shape)\n",
    "print(y.shape)"
   ]
  },
  {
   "cell_type": "code",
   "execution_count": 11,
   "metadata": {},
   "outputs": [],
   "source": [
    "# Split the data into training and testing sets (80% training, 20% testing)\n",
    "X_train, X_test, y_train, y_test = train_test_split(X, y, test_size=0.2, random_state=42)"
   ]
  },
  {
   "cell_type": "code",
   "execution_count": 12,
   "metadata": {},
   "outputs": [
    {
     "name": "stdout",
     "output_type": "stream",
     "text": [
      "(56072, 12, 1)\n",
      "(56072,)\n",
      "(14018, 12, 1)\n",
      "(14018,)\n"
     ]
    }
   ],
   "source": [
    "print(X_train.shape)\n",
    "print(y_train.shape)\n",
    "print(X_test.shape)\n",
    "print(y_test.shape)"
   ]
  },
  {
   "cell_type": "code",
   "execution_count": 13,
   "metadata": {},
   "outputs": [
    {
     "name": "stdout",
     "output_type": "stream",
     "text": [
      "Epoch 1/10\n",
      "170/170 [==============================] - 9s 35ms/step - loss: 134989.0469 - r_squared: -3412.3635 - val_loss: 138881.1562 - val_r_squared: -3290.2485\n",
      "Epoch 2/10\n",
      "170/170 [==============================] - 5s 29ms/step - loss: 134083.1406 - r_squared: -3390.2930 - val_loss: 141126.2188 - val_r_squared: -3347.2859\n",
      "Epoch 3/10\n",
      "170/170 [==============================] - 4s 25ms/step - loss: 131415.1719 - r_squared: -3316.6997 - val_loss: 137245.5000 - val_r_squared: -3241.9658\n",
      "Epoch 4/10\n",
      "170/170 [==============================] - 3s 15ms/step - loss: 131746.2031 - r_squared: -3313.7063 - val_loss: 137637.6250 - val_r_squared: -3272.8289\n",
      "Epoch 5/10\n",
      "170/170 [==============================] - 3s 17ms/step - loss: 130234.6328 - r_squared: -3274.0676 - val_loss: 138673.2344 - val_r_squared: -3322.7021\n",
      "Epoch 6/10\n",
      "170/170 [==============================] - 3s 17ms/step - loss: 130851.7188 - r_squared: -3295.1418 - val_loss: 137471.2969 - val_r_squared: -3266.9324\n",
      "Epoch 7/10\n",
      "170/170 [==============================] - 3s 16ms/step - loss: 131129.0312 - r_squared: -3294.1309 - val_loss: 137357.1094 - val_r_squared: -3240.5337\n",
      "Epoch 8/10\n",
      "170/170 [==============================] - 2s 14ms/step - loss: 130252.5703 - r_squared: -3279.6641 - val_loss: 136195.0156 - val_r_squared: -3219.0842\n",
      "Epoch 9/10\n",
      "170/170 [==============================] - 3s 16ms/step - loss: 133051.2969 - r_squared: -3363.9500 - val_loss: 137440.6094 - val_r_squared: -3239.3447\n",
      "Epoch 10/10\n",
      "170/170 [==============================] - 2s 14ms/step - loss: 130112.5547 - r_squared: -3271.2305 - val_loss: 136412.7500 - val_r_squared: -3217.9116\n",
      "439/439 [==============================] - 2s 4ms/step - loss: 126765.0469 - r_squared: -505.2726\n",
      "MSE and R_squared: [126765.046875, -505.27264404296875]\n"
     ]
    }
   ],
   "source": [
    "# Define the initial LSTM model\n",
    "model = Sequential()\n",
    "model.add(LSTM(units=32,\n",
    "               activation = 'relu',\n",
    "               return_sequences = 'True', \n",
    "               input_shape=(n_steps, 1)))\n",
    "model.add(Dense(units=1))\n",
    "\n",
    "# to get the r_squared\n",
    "def r_squared(y_true, y_pred):\n",
    "    SS_res =  K.sum(K.square(y_true - y_pred)) \n",
    "    SS_tot = K.sum(K.square(y_true - K.mean(y_true))) \n",
    "    return ( 1 - SS_res/(SS_tot + K.epsilon()) )\n",
    "\n",
    "# Compile the model\n",
    "model.compile(optimizer='adam', \n",
    "              loss='mse',\n",
    "              metrics=[r_squared])\n",
    "\n",
    "# early stopping\n",
    "early_stopping = EarlyStopping(monitor='val_loss', patience=5, restore_best_weights=True)\n",
    "\n",
    "# Train the model\n",
    "model.fit(X_train, y_train, \n",
    "          epochs=10, \n",
    "          batch_size=264, \n",
    "          validation_split=0.2,\n",
    "          verbose = 1,\n",
    "          callbacks=[early_stopping])\n",
    "\n",
    "# Evaluate the initial model\n",
    "loss = model.evaluate(X_test, y_test)\n",
    "print(\"MSE and R_squared:\", loss)"
   ]
  },
  {
   "cell_type": "code",
   "execution_count": 14,
   "metadata": {},
   "outputs": [
    {
     "name": "stdout",
     "output_type": "stream",
     "text": [
      "Epoch 1/10\n",
      "170/170 [==============================] - 9s 32ms/step - loss: 44002.4961 - r_squared: 0.5652 - val_loss: 16828.2285 - val_r_squared: 0.8468\n",
      "Epoch 2/10\n",
      "170/170 [==============================] - 5s 31ms/step - loss: 21154.4980 - r_squared: 0.8050 - val_loss: 23702.3848 - val_r_squared: 0.6711\n",
      "Epoch 3/10\n",
      "170/170 [==============================] - 5s 30ms/step - loss: 25137.7930 - r_squared: 0.7439 - val_loss: 16569.2637 - val_r_squared: 0.8453\n",
      "Epoch 4/10\n",
      "170/170 [==============================] - 5s 28ms/step - loss: 14005.7686 - r_squared: 0.8789 - val_loss: 10634.6768 - val_r_squared: 0.9111\n",
      "Epoch 5/10\n",
      "170/170 [==============================] - 5s 27ms/step - loss: 12473.6338 - r_squared: 0.8939 - val_loss: 13750.2041 - val_r_squared: 0.8866\n",
      "Epoch 6/10\n",
      "170/170 [==============================] - 6s 33ms/step - loss: 13189.1846 - r_squared: 0.8804 - val_loss: 10228.3740 - val_r_squared: 0.9250\n",
      "Epoch 7/10\n",
      "170/170 [==============================] - 5s 30ms/step - loss: 12085.6836 - r_squared: 0.8946 - val_loss: 8180.7363 - val_r_squared: 0.9368\n",
      "Epoch 8/10\n",
      "170/170 [==============================] - 5s 30ms/step - loss: 10636.0137 - r_squared: 0.9120 - val_loss: 7672.9985 - val_r_squared: 0.9405\n",
      "Epoch 9/10\n",
      "170/170 [==============================] - 5s 29ms/step - loss: 9817.1602 - r_squared: 0.8899 - val_loss: 7557.2886 - val_r_squared: 0.9383\n",
      "Epoch 10/10\n",
      "170/170 [==============================] - 5s 28ms/step - loss: 9542.3066 - r_squared: 0.9161 - val_loss: 6221.8608 - val_r_squared: 0.9452\n",
      "439/439 [==============================] - 2s 5ms/step - loss: 4456.6343 - r_squared: 0.8925\n",
      "MSE and R_squared: [4456.63427734375, 0.8924589157104492]\n"
     ]
    }
   ],
   "source": [
    "# 2nd LSTM model\n",
    "model = Sequential()\n",
    "model.add(LSTM(50, activation='relu', return_sequences=True, input_shape=(n_steps, 1)))\n",
    "model.add(LSTM(50, activation='relu'))\n",
    "model.add(Dense(1))\n",
    "model.compile(optimizer='adam', loss='mse')\n",
    "\n",
    "# to get the r_squared\n",
    "def r_squared(y_true, y_pred):\n",
    "    SS_res =  K.sum(K.square(y_true - y_pred)) \n",
    "    SS_tot = K.sum(K.square(y_true - K.mean(y_true))) \n",
    "    return ( 1 - SS_res/(SS_tot + K.epsilon()) )\n",
    "\n",
    "# Compile the model\n",
    "model.compile(optimizer='adam', \n",
    "              loss='mse',\n",
    "              metrics=[r_squared])\n",
    "\n",
    "# early stopping\n",
    "early_stopping = EarlyStopping(monitor='val_loss', patience=5, restore_best_weights=True)\n",
    "\n",
    "# Train the model\n",
    "model.fit(X_train, y_train, \n",
    "          epochs=10, \n",
    "          batch_size=264, \n",
    "          validation_split=0.2,\n",
    "          verbose = 1,\n",
    "          callbacks=[early_stopping])\n",
    "\n",
    "# Evaluate the initial model\n",
    "loss = model.evaluate(X_test, y_test)\n",
    "print(\"MSE and R_squared:\", loss)"
   ]
  },
  {
   "cell_type": "code",
   "execution_count": 27,
   "metadata": {},
   "outputs": [
    {
     "name": "stdout",
     "output_type": "stream",
     "text": [
      "Epoch 1/50\n",
      "170/170 [==============================] - 9s 32ms/step - loss: 15011.4639 - r_squared: 0.8590 - val_loss: 4952.9863 - val_r_squared: 0.9530\n",
      "Epoch 2/50\n",
      "170/170 [==============================] - 5s 31ms/step - loss: 7514.0225 - r_squared: 0.9331 - val_loss: 2971.3547 - val_r_squared: 0.9703\n",
      "Epoch 3/50\n",
      "170/170 [==============================] - 4s 23ms/step - loss: 6395.4531 - r_squared: 0.9455 - val_loss: 2952.1174 - val_r_squared: 0.9714\n",
      "Epoch 4/50\n",
      "170/170 [==============================] - 5s 27ms/step - loss: 6739.8096 - r_squared: 0.9358 - val_loss: 3713.6443 - val_r_squared: 0.9685\n",
      "Epoch 5/50\n",
      "170/170 [==============================] - 4s 26ms/step - loss: 6262.0391 - r_squared: 0.9464 - val_loss: 3206.0220 - val_r_squared: 0.9701\n",
      "Epoch 6/50\n",
      "170/170 [==============================] - 4s 25ms/step - loss: 6108.9131 - r_squared: 0.9372 - val_loss: 2324.1125 - val_r_squared: 0.9755\n",
      "Epoch 7/50\n",
      "170/170 [==============================] - 4s 25ms/step - loss: 6008.5903 - r_squared: 0.9137 - val_loss: 4023.5149 - val_r_squared: 0.9634\n",
      "Epoch 8/50\n",
      "170/170 [==============================] - 4s 21ms/step - loss: 6184.8643 - r_squared: 0.9512 - val_loss: 2641.3296 - val_r_squared: 0.9737\n",
      "Epoch 9/50\n",
      "170/170 [==============================] - 4s 22ms/step - loss: 6140.2690 - r_squared: 0.9418 - val_loss: 2761.8350 - val_r_squared: 0.9730\n",
      "Epoch 10/50\n",
      "170/170 [==============================] - 5s 26ms/step - loss: 5647.1123 - r_squared: 0.9310 - val_loss: 2177.0784 - val_r_squared: 0.9770\n",
      "Epoch 11/50\n",
      "170/170 [==============================] - 5s 29ms/step - loss: 5882.6289 - r_squared: 0.9457 - val_loss: 2460.1904 - val_r_squared: 0.9755\n",
      "Epoch 12/50\n",
      "170/170 [==============================] - 4s 26ms/step - loss: 5919.2583 - r_squared: 0.9448 - val_loss: 2302.3894 - val_r_squared: 0.9764\n",
      "Epoch 13/50\n",
      "170/170 [==============================] - 5s 27ms/step - loss: 5852.4663 - r_squared: 0.9547 - val_loss: 2469.8684 - val_r_squared: 0.9756\n",
      "Epoch 14/50\n",
      "170/170 [==============================] - 5s 29ms/step - loss: 5983.7002 - r_squared: 0.9476 - val_loss: 2310.4529 - val_r_squared: 0.9761\n",
      "Epoch 15/50\n",
      "170/170 [==============================] - 5s 30ms/step - loss: 6002.2305 - r_squared: 0.9506 - val_loss: 2295.1741 - val_r_squared: 0.9760\n",
      "Model: \"sequential_3\"\n",
      "_________________________________________________________________\n",
      " Layer (type)                Output Shape              Param #   \n",
      "=================================================================\n",
      " bidirectional_1 (Bidirecti  (None, 100)               20800     \n",
      " onal)                                                           \n",
      "                                                                 \n",
      " dense_3 (Dense)             (None, 1)                 101       \n",
      "                                                                 \n",
      "=================================================================\n",
      "Total params: 20901 (81.64 KB)\n",
      "Trainable params: 20901 (81.64 KB)\n",
      "Non-trainable params: 0 (0.00 Byte)\n",
      "_________________________________________________________________\n",
      "439/439 [==============================] - 3s 6ms/step - loss: 1390.5100 - r_squared: 0.9747\n",
      "MSE and R_squared: [1390.510009765625, 0.9746850728988647]\n"
     ]
    }
   ],
   "source": [
    "# bidirectional LSTM (3rd)\n",
    "model = Sequential()\n",
    "model.add(Bidirectional(LSTM(50, activation='relu'), input_shape=(n_steps, 1)))\n",
    "model.add(Dense(1))\n",
    "model.compile(optimizer='adam', loss='mse')\n",
    "\n",
    "# to get the r_squared\n",
    "def r_squared(y_true, y_pred):\n",
    "    SS_res =  K.sum(K.square(y_true - y_pred)) \n",
    "    SS_tot = K.sum(K.square(y_true - K.mean(y_true))) \n",
    "    return ( 1 - SS_res/(SS_tot + K.epsilon()) )\n",
    "\n",
    "# Compile the model\n",
    "model.compile(optimizer='adam', \n",
    "              loss='mse',\n",
    "              metrics=[r_squared])\n",
    "\n",
    "# early stopping\n",
    "early_stopping = EarlyStopping(monitor='val_loss', patience=5, restore_best_weights=True)\n",
    "\n",
    "# Train the model\n",
    "history = model.fit(X_train, y_train, \n",
    "          epochs=50, \n",
    "          batch_size=264, \n",
    "          validation_split=0.2,\n",
    "          verbose = 1,\n",
    "          callbacks=[early_stopping])\n",
    "\n",
    "model.summary()\n",
    "\n",
    "# Evaluate the initial model\n",
    "loss = model.evaluate(X_test, y_test)\n",
    "print(\"MSE and R_squared:\", loss)"
   ]
  },
  {
   "cell_type": "code",
   "execution_count": 42,
   "metadata": {},
   "outputs": [
    {
     "data": {
      "image/png": "[encoded data removed]",
      "text/plain": [
       "<Figure size 800x400 with 1 Axes>"
      ]
     },
     "metadata": {},
     "output_type": "display_data"
    }
   ],
   "source": [
    "# plot the train and validation loss\n",
    "plt.figure(figsize=(8,4))\n",
    "plt.plot(history.history['loss'], label='Train Loss')\n",
    "plt.plot(history.history['val_loss'], label='Validation Loss')\n",
    "plt.title('Model Train vs Validation loss')\n",
    "plt.ylabel('Loss')\n",
    "plt.xlabel('Epochs')\n",
    "plt.legend(loc='upper right')\n",
    "plt.show();"
   ]
  },
  {
   "cell_type": "code",
   "execution_count": 34,
   "metadata": {},
   "outputs": [
    {
     "data": {
      "text/plain": [
       "array([  0.        ,  10.58213319,   4.45565041, ..., 146.7770938 ,\n",
       "         8.75783764,  62.25440455])"
      ]
     },
     "execution_count": 34,
     "metadata": {},
     "output_type": "execute_result"
    }
   ],
   "source": [
    "y_test"
   ]
  },
  {
   "cell_type": "code",
   "execution_count": 40,
   "metadata": {},
   "outputs": [
    {
     "name": "stdout",
     "output_type": "stream",
     "text": [
      "439/439 [==============================] - 2s 4ms/step\n"
     ]
    }
   ],
   "source": [
    "y_pred = model.predict(X_test)\n",
    "y_pred_flat = y_pred.flatten()\n"
   ]
  },
  {
   "cell_type": "code",
   "execution_count": 38,
   "metadata": {},
   "outputs": [
    {
     "ename": "ValueError",
     "evalue": "x and y must have same first dimension, but have shapes (56072, 12, 1) and (14018,)",
     "output_type": "error",
     "traceback": [
      "\u001b[1;31m---------------------------------------------------------------------------\u001b[0m",
      "\u001b[1;31mValueError\u001b[0m                                Traceback (most recent call last)",
      "Cell \u001b[1;32mIn[38], line 6\u001b[0m\n\u001b[0;32m      4\u001b[0m \u001b[38;5;66;03m# Plot the actual and predicted values\u001b[39;00m\n\u001b[0;32m      5\u001b[0m plt\u001b[38;5;241m.\u001b[39mfigure(figsize\u001b[38;5;241m=\u001b[39m(\u001b[38;5;241m8\u001b[39m,\u001b[38;5;241m4\u001b[39m))\n\u001b[1;32m----> 6\u001b[0m plt\u001b[38;5;241m.\u001b[39mplot(X_train, y_test, marker\u001b[38;5;241m=\u001b[39m\u001b[38;5;124m'\u001b[39m\u001b[38;5;124m.\u001b[39m\u001b[38;5;124m'\u001b[39m, label\u001b[38;5;241m=\u001b[39m\u001b[38;5;124m\"\u001b[39m\u001b[38;5;124mactual\u001b[39m\u001b[38;5;124m\"\u001b[39m)\n\u001b[0;32m      7\u001b[0m plt\u001b[38;5;241m.\u001b[39mplot(X_train, y_pred_flat, \u001b[38;5;124m'\u001b[39m\u001b[38;5;124mr\u001b[39m\u001b[38;5;124m'\u001b[39m, label\u001b[38;5;241m=\u001b[39m\u001b[38;5;124m\"\u001b[39m\u001b[38;5;124mprediction\u001b[39m\u001b[38;5;124m\"\u001b[39m)\n\u001b[0;32m      9\u001b[0m \u001b[38;5;66;03m# Adjust layout and style\u001b[39;00m\n",
      "File \u001b[1;32mc:\\Users\\chust\\anaconda3\\Lib\\site-packages\\matplotlib\\pyplot.py:2812\u001b[0m, in \u001b[0;36mplot\u001b[1;34m(scalex, scaley, data, *args, **kwargs)\u001b[0m\n\u001b[0;32m   2810\u001b[0m \u001b[38;5;129m@_copy_docstring_and_deprecators\u001b[39m(Axes\u001b[38;5;241m.\u001b[39mplot)\n\u001b[0;32m   2811\u001b[0m \u001b[38;5;28;01mdef\u001b[39;00m \u001b[38;5;21mplot\u001b[39m(\u001b[38;5;241m*\u001b[39margs, scalex\u001b[38;5;241m=\u001b[39m\u001b[38;5;28;01mTrue\u001b[39;00m, scaley\u001b[38;5;241m=\u001b[39m\u001b[38;5;28;01mTrue\u001b[39;00m, data\u001b[38;5;241m=\u001b[39m\u001b[38;5;28;01mNone\u001b[39;00m, \u001b[38;5;241m*\u001b[39m\u001b[38;5;241m*\u001b[39mkwargs):\n\u001b[1;32m-> 2812\u001b[0m     \u001b[38;5;28;01mreturn\u001b[39;00m gca()\u001b[38;5;241m.\u001b[39mplot(\n\u001b[0;32m   2813\u001b[0m         \u001b[38;5;241m*\u001b[39margs, scalex\u001b[38;5;241m=\u001b[39mscalex, scaley\u001b[38;5;241m=\u001b[39mscaley,\n\u001b[0;32m   2814\u001b[0m         \u001b[38;5;241m*\u001b[39m\u001b[38;5;241m*\u001b[39m({\u001b[38;5;124m\"\u001b[39m\u001b[38;5;124mdata\u001b[39m\u001b[38;5;124m\"\u001b[39m: data} \u001b[38;5;28;01mif\u001b[39;00m data \u001b[38;5;129;01mis\u001b[39;00m \u001b[38;5;129;01mnot\u001b[39;00m \u001b[38;5;28;01mNone\u001b[39;00m \u001b[38;5;28;01melse\u001b[39;00m {}), \u001b[38;5;241m*\u001b[39m\u001b[38;5;241m*\u001b[39mkwargs)\n",
      "File \u001b[1;32mc:\\Users\\chust\\anaconda3\\Lib\\site-packages\\matplotlib\\axes\\_axes.py:1688\u001b[0m, in \u001b[0;36mAxes.plot\u001b[1;34m(self, scalex, scaley, data, *args, **kwargs)\u001b[0m\n\u001b[0;32m   1445\u001b[0m \u001b[38;5;250m\u001b[39m\u001b[38;5;124;03m\"\"\"\u001b[39;00m\n\u001b[0;32m   1446\u001b[0m \u001b[38;5;124;03mPlot y versus x as lines and/or markers.\u001b[39;00m\n\u001b[0;32m   1447\u001b[0m \n\u001b[1;32m   (...)\u001b[0m\n\u001b[0;32m   1685\u001b[0m \u001b[38;5;124;03m(``'green'``) or hex strings (``'#008000'``).\u001b[39;00m\n\u001b[0;32m   1686\u001b[0m \u001b[38;5;124;03m\"\"\"\u001b[39;00m\n\u001b[0;32m   1687\u001b[0m kwargs \u001b[38;5;241m=\u001b[39m cbook\u001b[38;5;241m.\u001b[39mnormalize_kwargs(kwargs, mlines\u001b[38;5;241m.\u001b[39mLine2D)\n\u001b[1;32m-> 1688\u001b[0m lines \u001b[38;5;241m=\u001b[39m [\u001b[38;5;241m*\u001b[39m\u001b[38;5;28mself\u001b[39m\u001b[38;5;241m.\u001b[39m_get_lines(\u001b[38;5;241m*\u001b[39margs, data\u001b[38;5;241m=\u001b[39mdata, \u001b[38;5;241m*\u001b[39m\u001b[38;5;241m*\u001b[39mkwargs)]\n\u001b[0;32m   1689\u001b[0m \u001b[38;5;28;01mfor\u001b[39;00m line \u001b[38;5;129;01min\u001b[39;00m lines:\n\u001b[0;32m   1690\u001b[0m     \u001b[38;5;28mself\u001b[39m\u001b[38;5;241m.\u001b[39madd_line(line)\n",
      "File \u001b[1;32mc:\\Users\\chust\\anaconda3\\Lib\\site-packages\\matplotlib\\axes\\_base.py:311\u001b[0m, in \u001b[0;36m_process_plot_var_args.__call__\u001b[1;34m(self, data, *args, **kwargs)\u001b[0m\n\u001b[0;32m    309\u001b[0m     this \u001b[38;5;241m+\u001b[39m\u001b[38;5;241m=\u001b[39m args[\u001b[38;5;241m0\u001b[39m],\n\u001b[0;32m    310\u001b[0m     args \u001b[38;5;241m=\u001b[39m args[\u001b[38;5;241m1\u001b[39m:]\n\u001b[1;32m--> 311\u001b[0m \u001b[38;5;28;01myield from\u001b[39;00m \u001b[38;5;28mself\u001b[39m\u001b[38;5;241m.\u001b[39m_plot_args(\n\u001b[0;32m    312\u001b[0m     this, kwargs, ambiguous_fmt_datakey\u001b[38;5;241m=\u001b[39mambiguous_fmt_datakey)\n",
      "File \u001b[1;32mc:\\Users\\chust\\anaconda3\\Lib\\site-packages\\matplotlib\\axes\\_base.py:504\u001b[0m, in \u001b[0;36m_process_plot_var_args._plot_args\u001b[1;34m(self, tup, kwargs, return_kwargs, ambiguous_fmt_datakey)\u001b[0m\n\u001b[0;32m    501\u001b[0m     \u001b[38;5;28mself\u001b[39m\u001b[38;5;241m.\u001b[39maxes\u001b[38;5;241m.\u001b[39myaxis\u001b[38;5;241m.\u001b[39mupdate_units(y)\n\u001b[0;32m    503\u001b[0m \u001b[38;5;28;01mif\u001b[39;00m x\u001b[38;5;241m.\u001b[39mshape[\u001b[38;5;241m0\u001b[39m] \u001b[38;5;241m!=\u001b[39m y\u001b[38;5;241m.\u001b[39mshape[\u001b[38;5;241m0\u001b[39m]:\n\u001b[1;32m--> 504\u001b[0m     \u001b[38;5;28;01mraise\u001b[39;00m \u001b[38;5;167;01mValueError\u001b[39;00m(\u001b[38;5;124mf\u001b[39m\u001b[38;5;124m\"\u001b[39m\u001b[38;5;124mx and y must have same first dimension, but \u001b[39m\u001b[38;5;124m\"\u001b[39m\n\u001b[0;32m    505\u001b[0m                      \u001b[38;5;124mf\u001b[39m\u001b[38;5;124m\"\u001b[39m\u001b[38;5;124mhave shapes \u001b[39m\u001b[38;5;132;01m{\u001b[39;00mx\u001b[38;5;241m.\u001b[39mshape\u001b[38;5;132;01m}\u001b[39;00m\u001b[38;5;124m and \u001b[39m\u001b[38;5;132;01m{\u001b[39;00my\u001b[38;5;241m.\u001b[39mshape\u001b[38;5;132;01m}\u001b[39;00m\u001b[38;5;124m\"\u001b[39m)\n\u001b[0;32m    506\u001b[0m \u001b[38;5;28;01mif\u001b[39;00m x\u001b[38;5;241m.\u001b[39mndim \u001b[38;5;241m>\u001b[39m \u001b[38;5;241m2\u001b[39m \u001b[38;5;129;01mor\u001b[39;00m y\u001b[38;5;241m.\u001b[39mndim \u001b[38;5;241m>\u001b[39m \u001b[38;5;241m2\u001b[39m:\n\u001b[0;32m    507\u001b[0m     \u001b[38;5;28;01mraise\u001b[39;00m \u001b[38;5;167;01mValueError\u001b[39;00m(\u001b[38;5;124mf\u001b[39m\u001b[38;5;124m\"\u001b[39m\u001b[38;5;124mx and y can be no greater than 2D, but have \u001b[39m\u001b[38;5;124m\"\u001b[39m\n\u001b[0;32m    508\u001b[0m                      \u001b[38;5;124mf\u001b[39m\u001b[38;5;124m\"\u001b[39m\u001b[38;5;124mshapes \u001b[39m\u001b[38;5;132;01m{\u001b[39;00mx\u001b[38;5;241m.\u001b[39mshape\u001b[38;5;132;01m}\u001b[39;00m\u001b[38;5;124m and \u001b[39m\u001b[38;5;132;01m{\u001b[39;00my\u001b[38;5;241m.\u001b[39mshape\u001b[38;5;132;01m}\u001b[39;00m\u001b[38;5;124m\"\u001b[39m)\n",
      "\u001b[1;31mValueError\u001b[0m: x and y must have same first dimension, but have shapes (56072, 12, 1) and (14018,)"
     ]
    },
    {
     "data": {
      "image/png": "[encoded data removed]",
      "text/plain": [
       "<Figure size 800x400 with 1 Axes>"
      ]
     },
     "metadata": {},
     "output_type": "display_data"
    }
   ],
   "source": [
    "import matplotlib.pyplot as plt\n",
    "import seaborn as sns\n",
    "\n",
    "# Plot the actual and predicted values\n",
    "plt.figure(figsize=(8,4))\n",
    "plt.plot(X_train, y_test, marker='.', label=\"actual\")\n",
    "plt.plot(X_train, y_pred_flat, 'r', label=\"prediction\")\n",
    "\n",
    "# Adjust layout and style\n",
    "plt.tight_layout()\n",
    "plt.ylabel('Global_active_power', size=15)\n",
    "plt.xlabel('Time step', size=15)\n",
    "plt.legend(fontsize=15)\n",
    "plt.show()"
   ]
  },
  {
   "cell_type": "code",
   "execution_count": null,
   "metadata": {},
   "outputs": [],
   "source": []
  }
 ],
 "metadata": {
  "kernelspec": {
   "display_name": "base",
   "language": "python",
   "name": "python3"
  },
  "language_info": {
   "codemirror_mode": {
    "name": "ipython",
    "version": 3
   },
   "file_extension": ".py",
   "mimetype": "text/x-python",
   "name": "python",
   "nbconvert_exporter": "python",
   "pygments_lexer": "ipython3",
   "version": "3.11.5"
  }
 },
 "nbformat": 4,
 "nbformat_minor": 2
}
