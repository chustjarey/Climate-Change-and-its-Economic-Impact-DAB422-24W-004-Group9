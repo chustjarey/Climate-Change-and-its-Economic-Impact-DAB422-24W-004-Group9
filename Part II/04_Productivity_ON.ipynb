{
 "cells": [
  {
   "cell_type": "markdown",
   "metadata": {},
   "source": [
    "## PRODUCTIVITY FOR ONTARIO ##"
   ]
  },
  {
   "cell_type": "code",
   "execution_count": 38,
   "metadata": {},
   "outputs": [],
   "source": [
    "# import libraries\n",
    "\n",
    "import pandas as pd"
   ]
  },
  {
   "cell_type": "code",
   "execution_count": 39,
   "metadata": {},
   "outputs": [
    {
     "data": {
      "text/html": [
       "<div>\n",
       "<style scoped>\n",
       "    .dataframe tbody tr th:only-of-type {\n",
       "        vertical-align: middle;\n",
       "    }\n",
       "\n",
       "    .dataframe tbody tr th {\n",
       "        vertical-align: top;\n",
       "    }\n",
       "\n",
       "    .dataframe thead th {\n",
       "        text-align: right;\n",
       "    }\n",
       "</style>\n",
       "<table border=\"1\" class=\"dataframe\">\n",
       "  <thead>\n",
       "    <tr style=\"text-align: right;\">\n",
       "      <th></th>\n",
       "      <th>0</th>\n",
       "      <th>1</th>\n",
       "      <th>2</th>\n",
       "      <th>3</th>\n",
       "      <th>4</th>\n",
       "    </tr>\n",
       "  </thead>\n",
       "  <tbody>\n",
       "    <tr>\n",
       "      <th>Date</th>\n",
       "      <td>1997-01-01</td>\n",
       "      <td>1997-02-01</td>\n",
       "      <td>1997-03-01</td>\n",
       "      <td>1997-04-01</td>\n",
       "      <td>1997-05-01</td>\n",
       "    </tr>\n",
       "    <tr>\n",
       "      <th>provincename</th>\n",
       "      <td>Alberta</td>\n",
       "      <td>Alberta</td>\n",
       "      <td>Alberta</td>\n",
       "      <td>Alberta</td>\n",
       "      <td>Alberta</td>\n",
       "    </tr>\n",
       "    <tr>\n",
       "      <th>production_in_division_X22.Utilities</th>\n",
       "      <td>1.485804</td>\n",
       "      <td>1.471049</td>\n",
       "      <td>1.411428</td>\n",
       "      <td>1.465141</td>\n",
       "      <td>1.62373</td>\n",
       "    </tr>\n",
       "    <tr>\n",
       "      <th>production_in_division_X23.Construction</th>\n",
       "      <td>17.399965</td>\n",
       "      <td>17.695034</td>\n",
       "      <td>16.630237</td>\n",
       "      <td>16.64234</td>\n",
       "      <td>18.062713</td>\n",
       "    </tr>\n",
       "    <tr>\n",
       "      <th>production_in_division_X31.33.Manufacturing</th>\n",
       "      <td>18.590137</td>\n",
       "      <td>19.034434</td>\n",
       "      <td>19.274297</td>\n",
       "      <td>19.578348</td>\n",
       "      <td>19.621579</td>\n",
       "    </tr>\n",
       "    <tr>\n",
       "      <th>production_in_division_X48.49.Transportation.and.warehousing</th>\n",
       "      <td>13.340542</td>\n",
       "      <td>13.617536</td>\n",
       "      <td>14.453078</td>\n",
       "      <td>13.256295</td>\n",
       "      <td>13.355093</td>\n",
       "    </tr>\n",
       "    <tr>\n",
       "      <th>production_in_division_X61.Educational.services</th>\n",
       "      <td>11.588955</td>\n",
       "      <td>11.890582</td>\n",
       "      <td>11.962199</td>\n",
       "      <td>12.456337</td>\n",
       "      <td>12.027437</td>\n",
       "    </tr>\n",
       "    <tr>\n",
       "      <th>production_in_division_X62.Health.care.and.social.assistance</th>\n",
       "      <td>13.343328</td>\n",
       "      <td>13.739512</td>\n",
       "      <td>13.321957</td>\n",
       "      <td>14.011986</td>\n",
       "      <td>13.889241</td>\n",
       "    </tr>\n",
       "    <tr>\n",
       "      <th>production_in_division_X72.Accommodation.and.food.services</th>\n",
       "      <td>3.872117</td>\n",
       "      <td>3.734915</td>\n",
       "      <td>3.790906</td>\n",
       "      <td>4.100418</td>\n",
       "      <td>4.119427</td>\n",
       "    </tr>\n",
       "    <tr>\n",
       "      <th>production_in_division_X81.Other.services..except.public.administration.</th>\n",
       "      <td>5.36865</td>\n",
       "      <td>5.49688</td>\n",
       "      <td>5.773114</td>\n",
       "      <td>5.658535</td>\n",
       "      <td>5.613666</td>\n",
       "    </tr>\n",
       "    <tr>\n",
       "      <th>production_in_division_X91.Public.administration</th>\n",
       "      <td>25.002432</td>\n",
       "      <td>23.996192</td>\n",
       "      <td>24.365567</td>\n",
       "      <td>23.796008</td>\n",
       "      <td>25.303971</td>\n",
       "    </tr>\n",
       "    <tr>\n",
       "      <th>production_in_division_X11.Agriculture.forestry.fishing.hunting.21.Mining.quarrying.and.oil.and.gas.extraction</th>\n",
       "      <td>362.713936</td>\n",
       "      <td>368.185093</td>\n",
       "      <td>385.806995</td>\n",
       "      <td>393.425984</td>\n",
       "      <td>385.021311</td>\n",
       "    </tr>\n",
       "    <tr>\n",
       "      <th>production_in_division_X41.Wholesale.trade.44.45.Retail.trade</th>\n",
       "      <td>17.907676</td>\n",
       "      <td>17.58605</td>\n",
       "      <td>17.377787</td>\n",
       "      <td>17.690151</td>\n",
       "      <td>16.922974</td>\n",
       "    </tr>\n",
       "    <tr>\n",
       "      <th>production_in_division_X52.Finance.and.insurance.53.Real.estate.and.rental.and.leasing</th>\n",
       "      <td>24.13531</td>\n",
       "      <td>23.488937</td>\n",
       "      <td>22.444308</td>\n",
       "      <td>22.302734</td>\n",
       "      <td>24.040353</td>\n",
       "    </tr>\n",
       "    <tr>\n",
       "      <th>production_in_division_X54.Professional..scientific.and.technical.services.55.56</th>\n",
       "      <td>15.578428</td>\n",
       "      <td>16.206769</td>\n",
       "      <td>15.380479</td>\n",
       "      <td>15.873826</td>\n",
       "      <td>15.534059</td>\n",
       "    </tr>\n",
       "    <tr>\n",
       "      <th>production_in_division_X51.Information.culture.and.recreation.71</th>\n",
       "      <td>7.600796</td>\n",
       "      <td>7.283954</td>\n",
       "      <td>7.683184</td>\n",
       "      <td>7.369425</td>\n",
       "      <td>7.534485</td>\n",
       "    </tr>\n",
       "    <tr>\n",
       "      <th>Population</th>\n",
       "      <td>7662.0</td>\n",
       "      <td>7662.0</td>\n",
       "      <td>7662.0</td>\n",
       "      <td>7662.0</td>\n",
       "      <td>7662.0</td>\n",
       "    </tr>\n",
       "    <tr>\n",
       "      <th>GeoUID</th>\n",
       "      <td>4801003</td>\n",
       "      <td>4801003</td>\n",
       "      <td>4801003</td>\n",
       "      <td>4801003</td>\n",
       "      <td>4801003</td>\n",
       "    </tr>\n",
       "    <tr>\n",
       "      <th>census_year_ref</th>\n",
       "      <td>CA16</td>\n",
       "      <td>CA16</td>\n",
       "      <td>CA16</td>\n",
       "      <td>CA16</td>\n",
       "      <td>CA16</td>\n",
       "    </tr>\n",
       "    <tr>\n",
       "      <th>Dominant_NAICS</th>\n",
       "      <td>X11.Agriculture.forestry.fishing.hunting.21.Mi...</td>\n",
       "      <td>X11.Agriculture.forestry.fishing.hunting.21.Mi...</td>\n",
       "      <td>X11.Agriculture.forestry.fishing.hunting.21.Mi...</td>\n",
       "      <td>X11.Agriculture.forestry.fishing.hunting.21.Mi...</td>\n",
       "      <td>X11.Agriculture.forestry.fishing.hunting.21.Mi...</td>\n",
       "    </tr>\n",
       "    <tr>\n",
       "      <th>colourval</th>\n",
       "      <td>#8DA0CB</td>\n",
       "      <td>#8DA0CB</td>\n",
       "      <td>#8DA0CB</td>\n",
       "      <td>#8DA0CB</td>\n",
       "      <td>#8DA0CB</td>\n",
       "    </tr>\n",
       "  </tbody>\n",
       "</table>\n",
       "</div>"
      ],
      "text/plain": [
       "                                                                                                    0  \\\n",
       "Date                                                                                       1997-01-01   \n",
       "provincename                                                                                  Alberta   \n",
       "production_in_division_X22.Utilities                                                         1.485804   \n",
       "production_in_division_X23.Construction                                                     17.399965   \n",
       "production_in_division_X31.33.Manufacturing                                                 18.590137   \n",
       "production_in_division_X48.49.Transportation.an...                                          13.340542   \n",
       "production_in_division_X61.Educational.services                                             11.588955   \n",
       "production_in_division_X62.Health.care.and.soci...                                          13.343328   \n",
       "production_in_division_X72.Accommodation.and.fo...                                           3.872117   \n",
       "production_in_division_X81.Other.services..exce...                                            5.36865   \n",
       "production_in_division_X91.Public.administration                                            25.002432   \n",
       "production_in_division_X11.Agriculture.forestry...                                         362.713936   \n",
       "production_in_division_X41.Wholesale.trade.44.4...                                          17.907676   \n",
       "production_in_division_X52.Finance.and.insuranc...                                           24.13531   \n",
       "production_in_division_X54.Professional..scient...                                          15.578428   \n",
       "production_in_division_X51.Information.culture....                                           7.600796   \n",
       "Population                                                                                     7662.0   \n",
       "GeoUID                                                                                        4801003   \n",
       "census_year_ref                                                                                  CA16   \n",
       "Dominant_NAICS                                      X11.Agriculture.forestry.fishing.hunting.21.Mi...   \n",
       "colourval                                                                                     #8DA0CB   \n",
       "\n",
       "                                                                                                    1  \\\n",
       "Date                                                                                       1997-02-01   \n",
       "provincename                                                                                  Alberta   \n",
       "production_in_division_X22.Utilities                                                         1.471049   \n",
       "production_in_division_X23.Construction                                                     17.695034   \n",
       "production_in_division_X31.33.Manufacturing                                                 19.034434   \n",
       "production_in_division_X48.49.Transportation.an...                                          13.617536   \n",
       "production_in_division_X61.Educational.services                                             11.890582   \n",
       "production_in_division_X62.Health.care.and.soci...                                          13.739512   \n",
       "production_in_division_X72.Accommodation.and.fo...                                           3.734915   \n",
       "production_in_division_X81.Other.services..exce...                                            5.49688   \n",
       "production_in_division_X91.Public.administration                                            23.996192   \n",
       "production_in_division_X11.Agriculture.forestry...                                         368.185093   \n",
       "production_in_division_X41.Wholesale.trade.44.4...                                           17.58605   \n",
       "production_in_division_X52.Finance.and.insuranc...                                          23.488937   \n",
       "production_in_division_X54.Professional..scient...                                          16.206769   \n",
       "production_in_division_X51.Information.culture....                                           7.283954   \n",
       "Population                                                                                     7662.0   \n",
       "GeoUID                                                                                        4801003   \n",
       "census_year_ref                                                                                  CA16   \n",
       "Dominant_NAICS                                      X11.Agriculture.forestry.fishing.hunting.21.Mi...   \n",
       "colourval                                                                                     #8DA0CB   \n",
       "\n",
       "                                                                                                    2  \\\n",
       "Date                                                                                       1997-03-01   \n",
       "provincename                                                                                  Alberta   \n",
       "production_in_division_X22.Utilities                                                         1.411428   \n",
       "production_in_division_X23.Construction                                                     16.630237   \n",
       "production_in_division_X31.33.Manufacturing                                                 19.274297   \n",
       "production_in_division_X48.49.Transportation.an...                                          14.453078   \n",
       "production_in_division_X61.Educational.services                                             11.962199   \n",
       "production_in_division_X62.Health.care.and.soci...                                          13.321957   \n",
       "production_in_division_X72.Accommodation.and.fo...                                           3.790906   \n",
       "production_in_division_X81.Other.services..exce...                                           5.773114   \n",
       "production_in_division_X91.Public.administration                                            24.365567   \n",
       "production_in_division_X11.Agriculture.forestry...                                         385.806995   \n",
       "production_in_division_X41.Wholesale.trade.44.4...                                          17.377787   \n",
       "production_in_division_X52.Finance.and.insuranc...                                          22.444308   \n",
       "production_in_division_X54.Professional..scient...                                          15.380479   \n",
       "production_in_division_X51.Information.culture....                                           7.683184   \n",
       "Population                                                                                     7662.0   \n",
       "GeoUID                                                                                        4801003   \n",
       "census_year_ref                                                                                  CA16   \n",
       "Dominant_NAICS                                      X11.Agriculture.forestry.fishing.hunting.21.Mi...   \n",
       "colourval                                                                                     #8DA0CB   \n",
       "\n",
       "                                                                                                    3  \\\n",
       "Date                                                                                       1997-04-01   \n",
       "provincename                                                                                  Alberta   \n",
       "production_in_division_X22.Utilities                                                         1.465141   \n",
       "production_in_division_X23.Construction                                                      16.64234   \n",
       "production_in_division_X31.33.Manufacturing                                                 19.578348   \n",
       "production_in_division_X48.49.Transportation.an...                                          13.256295   \n",
       "production_in_division_X61.Educational.services                                             12.456337   \n",
       "production_in_division_X62.Health.care.and.soci...                                          14.011986   \n",
       "production_in_division_X72.Accommodation.and.fo...                                           4.100418   \n",
       "production_in_division_X81.Other.services..exce...                                           5.658535   \n",
       "production_in_division_X91.Public.administration                                            23.796008   \n",
       "production_in_division_X11.Agriculture.forestry...                                         393.425984   \n",
       "production_in_division_X41.Wholesale.trade.44.4...                                          17.690151   \n",
       "production_in_division_X52.Finance.and.insuranc...                                          22.302734   \n",
       "production_in_division_X54.Professional..scient...                                          15.873826   \n",
       "production_in_division_X51.Information.culture....                                           7.369425   \n",
       "Population                                                                                     7662.0   \n",
       "GeoUID                                                                                        4801003   \n",
       "census_year_ref                                                                                  CA16   \n",
       "Dominant_NAICS                                      X11.Agriculture.forestry.fishing.hunting.21.Mi...   \n",
       "colourval                                                                                     #8DA0CB   \n",
       "\n",
       "                                                                                                    4  \n",
       "Date                                                                                       1997-05-01  \n",
       "provincename                                                                                  Alberta  \n",
       "production_in_division_X22.Utilities                                                          1.62373  \n",
       "production_in_division_X23.Construction                                                     18.062713  \n",
       "production_in_division_X31.33.Manufacturing                                                 19.621579  \n",
       "production_in_division_X48.49.Transportation.an...                                          13.355093  \n",
       "production_in_division_X61.Educational.services                                             12.027437  \n",
       "production_in_division_X62.Health.care.and.soci...                                          13.889241  \n",
       "production_in_division_X72.Accommodation.and.fo...                                           4.119427  \n",
       "production_in_division_X81.Other.services..exce...                                           5.613666  \n",
       "production_in_division_X91.Public.administration                                            25.303971  \n",
       "production_in_division_X11.Agriculture.forestry...                                         385.021311  \n",
       "production_in_division_X41.Wholesale.trade.44.4...                                          16.922974  \n",
       "production_in_division_X52.Finance.and.insuranc...                                          24.040353  \n",
       "production_in_division_X54.Professional..scient...                                          15.534059  \n",
       "production_in_division_X51.Information.culture....                                           7.534485  \n",
       "Population                                                                                     7662.0  \n",
       "GeoUID                                                                                        4801003  \n",
       "census_year_ref                                                                                  CA16  \n",
       "Dominant_NAICS                                      X11.Agriculture.forestry.fishing.hunting.21.Mi...  \n",
       "colourval                                                                                     #8DA0CB  "
      ]
     },
     "execution_count": 39,
     "metadata": {},
     "output_type": "execute_result"
    }
   ],
   "source": [
    "# to load productivity data\n",
    "\n",
    "productivity = pd.read_csv('combined_productivity_clean.csv') # \n",
    "\n",
    "productivity.head().T"
   ]
  },
  {
   "cell_type": "code",
   "execution_count": 40,
   "metadata": {},
   "outputs": [
    {
     "name": "stdout",
     "output_type": "stream",
     "text": [
      "<class 'pandas.core.frame.DataFrame'>\n",
      "Index: 172500 entries, 639600 to 812099\n",
      "Data columns (total 21 columns):\n",
      " #   Column                                                                                                          Non-Null Count   Dtype  \n",
      "---  ------                                                                                                          --------------   -----  \n",
      " 0   Date                                                                                                            172500 non-null  object \n",
      " 1   provincename                                                                                                    172500 non-null  object \n",
      " 2   production_in_division_X22.Utilities                                                                            162300 non-null  float64\n",
      " 3   production_in_division_X23.Construction                                                                         162300 non-null  float64\n",
      " 4   production_in_division_X31.33.Manufacturing                                                                     162300 non-null  float64\n",
      " 5   production_in_division_X48.49.Transportation.and.warehousing                                                    162300 non-null  float64\n",
      " 6   production_in_division_X61.Educational.services                                                                 162300 non-null  float64\n",
      " 7   production_in_division_X62.Health.care.and.social.assistance                                                    162300 non-null  float64\n",
      " 8   production_in_division_X72.Accommodation.and.food.services                                                      162300 non-null  float64\n",
      " 9   production_in_division_X81.Other.services..except.public.administration.                                        162300 non-null  float64\n",
      " 10  production_in_division_X91.Public.administration                                                                162300 non-null  float64\n",
      " 11  production_in_division_X11.Agriculture.forestry.fishing.hunting.21.Mining.quarrying.and.oil.and.gas.extraction  162300 non-null  float64\n",
      " 12  production_in_division_X41.Wholesale.trade.44.45.Retail.trade                                                   162300 non-null  float64\n",
      " 13  production_in_division_X52.Finance.and.insurance.53.Real.estate.and.rental.and.leasing                          162300 non-null  float64\n",
      " 14  production_in_division_X54.Professional..scientific.and.technical.services.55.56                                162300 non-null  float64\n",
      " 15  production_in_division_X51.Information.culture.and.recreation.71                                                162300 non-null  float64\n",
      " 16  Population                                                                                                      170100 non-null  float64\n",
      " 17  GeoUID                                                                                                          172500 non-null  int64  \n",
      " 18  census_year_ref                                                                                                 172500 non-null  object \n",
      " 19  Dominant_NAICS                                                                                                  162300 non-null  object \n",
      " 20  colourval                                                                                                       162300 non-null  object \n",
      "dtypes: float64(15), int64(1), object(5)\n",
      "memory usage: 29.0+ MB\n"
     ]
    }
   ],
   "source": [
    "ON_prod = productivity[productivity['provincename'] == 'Ontario']\n",
    "ON_prod.info()"
   ]
  },
  {
   "cell_type": "code",
   "execution_count": 41,
   "metadata": {},
   "outputs": [
    {
     "name": "stdout",
     "output_type": "stream",
     "text": [
      "<class 'pandas.core.frame.DataFrame'>\n",
      "Index: 172500 entries, 639600 to 812099\n",
      "Data columns (total 22 columns):\n",
      " #   Column                                                                                                          Non-Null Count   Dtype         \n",
      "---  ------                                                                                                          --------------   -----         \n",
      " 0   Date                                                                                                            172500 non-null  object        \n",
      " 1   provincename                                                                                                    172500 non-null  object        \n",
      " 2   production_in_division_X22.Utilities                                                                            162300 non-null  float64       \n",
      " 3   production_in_division_X23.Construction                                                                         162300 non-null  float64       \n",
      " 4   production_in_division_X31.33.Manufacturing                                                                     162300 non-null  float64       \n",
      " 5   production_in_division_X48.49.Transportation.and.warehousing                                                    162300 non-null  float64       \n",
      " 6   production_in_division_X61.Educational.services                                                                 162300 non-null  float64       \n",
      " 7   production_in_division_X62.Health.care.and.social.assistance                                                    162300 non-null  float64       \n",
      " 8   production_in_division_X72.Accommodation.and.food.services                                                      162300 non-null  float64       \n",
      " 9   production_in_division_X81.Other.services..except.public.administration.                                        162300 non-null  float64       \n",
      " 10  production_in_division_X91.Public.administration                                                                162300 non-null  float64       \n",
      " 11  production_in_division_X11.Agriculture.forestry.fishing.hunting.21.Mining.quarrying.and.oil.and.gas.extraction  162300 non-null  float64       \n",
      " 12  production_in_division_X41.Wholesale.trade.44.45.Retail.trade                                                   162300 non-null  float64       \n",
      " 13  production_in_division_X52.Finance.and.insurance.53.Real.estate.and.rental.and.leasing                          162300 non-null  float64       \n",
      " 14  production_in_division_X54.Professional..scientific.and.technical.services.55.56                                162300 non-null  float64       \n",
      " 15  production_in_division_X51.Information.culture.and.recreation.71                                                162300 non-null  float64       \n",
      " 16  Population                                                                                                      170100 non-null  float64       \n",
      " 17  GeoUID                                                                                                          172500 non-null  int64         \n",
      " 18  census_year_ref                                                                                                 172500 non-null  object        \n",
      " 19  Dominant_NAICS                                                                                                  162300 non-null  object        \n",
      " 20  colourval                                                                                                       162300 non-null  object        \n",
      " 21  Date/Time                                                                                                       172500 non-null  datetime64[ns]\n",
      "dtypes: datetime64[ns](1), float64(15), int64(1), object(5)\n",
      "memory usage: 30.3+ MB\n"
     ]
    },
    {
     "name": "stderr",
     "output_type": "stream",
     "text": [
      "C:\\Users\\chust\\AppData\\Local\\Temp\\ipykernel_91776\\2979670359.py:3: SettingWithCopyWarning: \n",
      "A value is trying to be set on a copy of a slice from a DataFrame.\n",
      "Try using .loc[row_indexer,col_indexer] = value instead\n",
      "\n",
      "See the caveats in the documentation: https://pandas.pydata.org/pandas-docs/stable/user_guide/indexing.html#returning-a-view-versus-a-copy\n",
      "  ON_prod['Date/Time'] = pd.to_datetime(ON_prod['Date'])\n"
     ]
    }
   ],
   "source": [
    "# to convert the \"Date\" column to date format\n",
    "\n",
    "ON_prod['Date/Time'] = pd.to_datetime(ON_prod['Date'])\n",
    "\n",
    "ON_prod.info()"
   ]
  },
  {
   "cell_type": "code",
   "execution_count": 42,
   "metadata": {},
   "outputs": [
    {
     "name": "stdout",
     "output_type": "stream",
     "text": [
      "1997-01-01 00:00:00\n",
      "2021-12-01 00:00:00\n"
     ]
    }
   ],
   "source": [
    "# to check ontario productivity date range\n",
    "print(ON_prod['Date/Time'].min())\n",
    "print(ON_prod['Date/Time'].max())"
   ]
  },
  {
   "cell_type": "code",
   "execution_count": 43,
   "metadata": {},
   "outputs": [
    {
     "name": "stdout",
     "output_type": "stream",
     "text": [
      "1998-01-01 00:00:00\n",
      "2021-12-01 00:00:00\n"
     ]
    }
   ],
   "source": [
    "# to remove 1997 data to be consistent with the weather dataset\n",
    "ON_prod = ON_prod[ON_prod['Date/Time'] >= '1998-01-01']\n",
    "print(ON_prod['Date/Time'].min())\n",
    "print(ON_prod['Date/Time'].max())"
   ]
  },
  {
   "cell_type": "code",
   "execution_count": 44,
   "metadata": {},
   "outputs": [
    {
     "name": "stderr",
     "output_type": "stream",
     "text": [
      "C:\\Users\\chust\\AppData\\Local\\Temp\\ipykernel_91776\\3138402481.py:3: DtypeWarning: Columns (26,28) have mixed types. Specify dtype option on import or set low_memory=False.\n",
      "  weather_1998_2018Feb = pd.read_csv('weather_geography_merged_1998_to_2018Feb.csv')\n"
     ]
    }
   ],
   "source": [
    "# to load weather_geography_merged data\n",
    "\n",
    "weather_1998_2018Feb = pd.read_csv('weather_geography_merged_1998_to_2018Feb.csv')\n",
    "weather_2018_2024 = pd.read_csv('weather_geography_merged_2018_to_2024_ON.csv')"
   ]
  },
  {
   "cell_type": "code",
   "execution_count": 45,
   "metadata": {},
   "outputs": [],
   "source": [
    "# to convert the \"Date/Time\" column to date format\n",
    "weather_1998_2018Feb['Date/Time'] = pd.to_datetime(weather_1998_2018Feb['Date/Time'])\n",
    "weather_2018_2024['Date/Time'] = pd.to_datetime(weather_2018_2024['Date/Time'])\n",
    "\n",
    "# to remove overlapping data (2018 Jan and Feb data)\n",
    "weather_1998_2018Feb = weather_1998_2018Feb[weather_1998_2018Feb['Date/Time'] <= '2017-12-01']\n",
    "\n",
    "# to filter Ontario province\n",
    "weather_1998_2018Feb_ON = weather_1998_2018Feb[weather_1998_2018Feb['provincename'] == 'Ontario']\n",
    "\n",
    "# to remove data from Feb 2024\n",
    "weather_2018_2024 = weather_2018_2024[weather_2018_2024['Date/Time'] <= '2024-01-01']"
   ]
  },
  {
   "cell_type": "code",
   "execution_count": 46,
   "metadata": {},
   "outputs": [
    {
     "name": "stdout",
     "output_type": "stream",
     "text": [
      "1998-01-01 00:00:00\n",
      "2021-12-01 00:00:00\n"
     ]
    }
   ],
   "source": [
    "# to check date range of productivity\n",
    "\n",
    "print(ON_prod['Date/Time'].min())\n",
    "print(ON_prod['Date/Time'].max())"
   ]
  },
  {
   "cell_type": "code",
   "execution_count": 47,
   "metadata": {},
   "outputs": [
    {
     "name": "stdout",
     "output_type": "stream",
     "text": [
      "1998-01-01 00:00:00\n",
      "2017-12-01 00:00:00\n",
      "2018-01-01 00:00:00\n",
      "2024-01-01 00:00:00\n"
     ]
    }
   ],
   "source": [
    "# to check date range of weather_geography_merged\n",
    "\n",
    "print(weather_1998_2018Feb['Date/Time'].min())\n",
    "print(weather_1998_2018Feb['Date/Time'].max())\n",
    "\n",
    "print(weather_2018_2024['Date/Time'].min())\n",
    "print(weather_2018_2024['Date/Time'].max())"
   ]
  },
  {
   "cell_type": "code",
   "execution_count": 48,
   "metadata": {},
   "outputs": [
    {
     "name": "stdout",
     "output_type": "stream",
     "text": [
      "<class 'pandas.core.frame.DataFrame'>\n",
      "Index: 10151 entries, 23829 to 4233\n",
      "Data columns (total 32 columns):\n",
      " #   Column                     Non-Null Count  Dtype         \n",
      "---  ------                     --------------  -----         \n",
      " 0   Longitude                  10151 non-null  float64       \n",
      " 1   Latitude                   10151 non-null  float64       \n",
      " 2   Station Name               10151 non-null  object        \n",
      " 3   Climate ID                 10151 non-null  object        \n",
      " 4   Date/Time                  10151 non-null  datetime64[ns]\n",
      " 5   Year                       10151 non-null  int64         \n",
      " 6   Month                      10151 non-null  int64         \n",
      " 7   Mean Max Temp (°C)         9792 non-null   float64       \n",
      " 8   Mean Max Temp Flag         5917 non-null   object        \n",
      " 9   Mean Min Temp (°C)         9788 non-null   float64       \n",
      " 10  Mean Min Temp Flag         5917 non-null   object        \n",
      " 11  Mean Temp (°C)             9784 non-null   float64       \n",
      " 12  Mean Temp Flag             5917 non-null   object        \n",
      " 13  Extr Max Temp (°C)         9792 non-null   float64       \n",
      " 14  Extr Max Temp Flag         5917 non-null   object        \n",
      " 15  Extr Min Temp (°C)         9788 non-null   float64       \n",
      " 16  Extr Min Temp Flag         5917 non-null   object        \n",
      " 17  Total Rain (mm)            10151 non-null  float64       \n",
      " 18  Total Rain Flag            5917 non-null   object        \n",
      " 19  Total Snow (cm)            10151 non-null  float64       \n",
      " 20  Total Snow Flag            5917 non-null   object        \n",
      " 21  Total Precip (mm)          10151 non-null  float64       \n",
      " 22  Total Precip Flag          5917 non-null   object        \n",
      " 23  Snow Grnd Last Day (cm)    8692 non-null   float64       \n",
      " 24  Snow Grnd Last Day Flag    5917 non-null   object        \n",
      " 25  Dir of Max Gust (10s deg)  10151 non-null  float64       \n",
      " 26  Dir of Max Gust Flag       5917 non-null   object        \n",
      " 27  Spd of Max Gust (km/h)     10151 non-null  float64       \n",
      " 28  Spd of Max Gust Flag       5917 non-null   object        \n",
      " 29  GeoUID                     10151 non-null  int64         \n",
      " 30  Region.Name                10151 non-null  object        \n",
      " 31  provincename               10151 non-null  object        \n",
      "dtypes: datetime64[ns](1), float64(13), int64(3), object(15)\n",
      "memory usage: 2.6+ MB\n"
     ]
    }
   ],
   "source": [
    "# to merge the 2 weather datasets\n",
    "merged_weather = pd.concat([weather_1998_2018Feb_ON, weather_2018_2024])\n",
    "merged_weather.info()"
   ]
  },
  {
   "cell_type": "code",
   "execution_count": 49,
   "metadata": {},
   "outputs": [
    {
     "name": "stdout",
     "output_type": "stream",
     "text": [
      "(165600, 22)\n",
      "(10151, 32)\n"
     ]
    }
   ],
   "source": [
    "# to check shape of the datasets\n",
    "print(ON_prod.shape)\n",
    "print(merged_weather.shape)"
   ]
  },
  {
   "cell_type": "code",
   "execution_count": 50,
   "metadata": {},
   "outputs": [],
   "source": [
    "# to merge data:\n",
    "\n",
    "merged_data = pd.merge(ON_prod, \n",
    "                       merged_weather,\n",
    "                       on = ['GeoUID', 'Date/Time', 'provincename'],\n",
    "                       how = 'right'\n",
    ")\n",
    "\n",
    "    # used 'right' to only get productivity data that have weather data\n",
    "    # not all GeoUID have weather data; we won't be able to forecast productivity for those GeoUID without the weather data"
   ]
  },
  {
   "cell_type": "code",
   "execution_count": 51,
   "metadata": {},
   "outputs": [
    {
     "name": "stdout",
     "output_type": "stream",
     "text": [
      "(10151, 32)\n",
      "(10151, 51)\n"
     ]
    }
   ],
   "source": [
    "# to check shape of the datasets\n",
    "print(merged_weather.shape)\n",
    "print(merged_data.shape)"
   ]
  },
  {
   "cell_type": "code",
   "execution_count": 52,
   "metadata": {},
   "outputs": [
    {
     "name": "stdout",
     "output_type": "stream",
     "text": [
      "1998-01-01 00:00:00\n",
      "2024-01-01 00:00:00\n"
     ]
    }
   ],
   "source": [
    "# to check date range\n",
    "print(merged_data['Date/Time'].min())\n",
    "print(merged_data['Date/Time'].max())"
   ]
  },
  {
   "cell_type": "code",
   "execution_count": 53,
   "metadata": {},
   "outputs": [],
   "source": [
    "# to remove unnecessary columns\n",
    "\n",
    "merged_data.drop(columns = ['Date', 'Year', 'Month',\n",
    "                            'census_year_ref', 'Dominant_NAICS',\n",
    "                            'colourval'],\n",
    "                 inplace = True)"
   ]
  },
  {
   "cell_type": "code",
   "execution_count": 54,
   "metadata": {},
   "outputs": [],
   "source": [
    "# to arrange columns\n",
    "\n",
    "columns_to_move = ['provincename', 'Longitude', 'Latitude', 'Region.Name', 'Date/Time']\n",
    "remaining_columns = [col for col in merged_data.columns if col not in columns_to_move]\n",
    "new_order = columns_to_move + remaining_columns\n",
    "merged_data = merged_data[new_order]"
   ]
  },
  {
   "cell_type": "code",
   "execution_count": 55,
   "metadata": {},
   "outputs": [],
   "source": [
    "# remove flag columns\n",
    "flag_columns = [col for col in merged_data.columns if 'Flag' in col]\n",
    "merged_data = merged_data.drop(columns = flag_columns)"
   ]
  },
  {
   "cell_type": "code",
   "execution_count": 56,
   "metadata": {},
   "outputs": [
    {
     "data": {
      "text/plain": [
       "(10151, 34)"
      ]
     },
     "execution_count": 56,
     "metadata": {},
     "output_type": "execute_result"
    }
   ],
   "source": [
    "merged_data.shape"
   ]
  },
  {
   "cell_type": "code",
   "execution_count": 57,
   "metadata": {},
   "outputs": [
    {
     "name": "stdout",
     "output_type": "stream",
     "text": [
      "<class 'pandas.core.frame.DataFrame'>\n",
      "RangeIndex: 10151 entries, 0 to 10150\n",
      "Data columns (total 34 columns):\n",
      " #   Column                                                                                                          Non-Null Count  Dtype         \n",
      "---  ------                                                                                                          --------------  -----         \n",
      " 0   provincename                                                                                                    10151 non-null  object        \n",
      " 1   Longitude                                                                                                       10151 non-null  float64       \n",
      " 2   Latitude                                                                                                        10151 non-null  float64       \n",
      " 3   Region.Name                                                                                                     10151 non-null  object        \n",
      " 4   Date/Time                                                                                                       10151 non-null  datetime64[ns]\n",
      " 5   production_in_division_X22.Utilities                                                                            8701 non-null   float64       \n",
      " 6   production_in_division_X23.Construction                                                                         8701 non-null   float64       \n",
      " 7   production_in_division_X31.33.Manufacturing                                                                     8701 non-null   float64       \n",
      " 8   production_in_division_X48.49.Transportation.and.warehousing                                                    8701 non-null   float64       \n",
      " 9   production_in_division_X61.Educational.services                                                                 8701 non-null   float64       \n",
      " 10  production_in_division_X62.Health.care.and.social.assistance                                                    8701 non-null   float64       \n",
      " 11  production_in_division_X72.Accommodation.and.food.services                                                      8701 non-null   float64       \n",
      " 12  production_in_division_X81.Other.services..except.public.administration.                                        8701 non-null   float64       \n",
      " 13  production_in_division_X91.Public.administration                                                                8701 non-null   float64       \n",
      " 14  production_in_division_X11.Agriculture.forestry.fishing.hunting.21.Mining.quarrying.and.oil.and.gas.extraction  8701 non-null   float64       \n",
      " 15  production_in_division_X41.Wholesale.trade.44.45.Retail.trade                                                   8701 non-null   float64       \n",
      " 16  production_in_division_X52.Finance.and.insurance.53.Real.estate.and.rental.and.leasing                          8701 non-null   float64       \n",
      " 17  production_in_division_X54.Professional..scientific.and.technical.services.55.56                                8701 non-null   float64       \n",
      " 18  production_in_division_X51.Information.culture.and.recreation.71                                                8701 non-null   float64       \n",
      " 19  Population                                                                                                      8701 non-null   float64       \n",
      " 20  GeoUID                                                                                                          10151 non-null  int64         \n",
      " 21  Station Name                                                                                                    10151 non-null  object        \n",
      " 22  Climate ID                                                                                                      10151 non-null  object        \n",
      " 23  Mean Max Temp (°C)                                                                                              9792 non-null   float64       \n",
      " 24  Mean Min Temp (°C)                                                                                              9788 non-null   float64       \n",
      " 25  Mean Temp (°C)                                                                                                  9784 non-null   float64       \n",
      " 26  Extr Max Temp (°C)                                                                                              9792 non-null   float64       \n",
      " 27  Extr Min Temp (°C)                                                                                              9788 non-null   float64       \n",
      " 28  Total Rain (mm)                                                                                                 10151 non-null  float64       \n",
      " 29  Total Snow (cm)                                                                                                 10151 non-null  float64       \n",
      " 30  Total Precip (mm)                                                                                               10151 non-null  float64       \n",
      " 31  Snow Grnd Last Day (cm)                                                                                         8692 non-null   float64       \n",
      " 32  Dir of Max Gust (10s deg)                                                                                       10151 non-null  float64       \n",
      " 33  Spd of Max Gust (km/h)                                                                                          10151 non-null  float64       \n",
      "dtypes: datetime64[ns](1), float64(28), int64(1), object(4)\n",
      "memory usage: 2.6+ MB\n"
     ]
    }
   ],
   "source": [
    "merged_data.info()\n",
    "\n",
    "    # null values under production columns is due to the missing data after year 2021\n",
    "    # null values under weather data might be from different season changes, or...."
   ]
  },
  {
   "cell_type": "code",
   "execution_count": 58,
   "metadata": {},
   "outputs": [],
   "source": [
    "# to ouput data\n",
    "\n",
    "csv_path = 'merged_clean_data_ON.csv'\n",
    "merged_data.to_csv(csv_path,\n",
    "                   index = False)\n",
    "\n",
    "# this data contains the geojson, weather, and productivity"
   ]
  },
  {
   "cell_type": "code",
   "execution_count": null,
   "metadata": {},
   "outputs": [],
   "source": []
  }
 ],
 "metadata": {
  "kernelspec": {
   "display_name": "base",
   "language": "python",
   "name": "python3"
  },
  "language_info": {
   "codemirror_mode": {
    "name": "ipython",
    "version": 3
   },
   "file_extension": ".py",
   "mimetype": "text/x-python",
   "name": "python",
   "nbconvert_exporter": "python",
   "pygments_lexer": "ipython3",
   "version": "3.11.5"
  }
 },
 "nbformat": 4,
 "nbformat_minor": 2
}
